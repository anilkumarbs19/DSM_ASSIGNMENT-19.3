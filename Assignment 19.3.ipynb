{
 "cells": [
  {
   "cell_type": "code",
   "execution_count": 2,
   "metadata": {},
   "outputs": [
    {
     "name": "stdout",
     "output_type": "stream",
     "text": [
      "Variance for group A is = 250\n",
      "Variance for group B is = 62\n",
      "The F Test as calculated is = 4\n"
     ]
    }
   ],
   "source": [
    "Group_A = [10,20,30,40,50]\n",
    "\n",
    "Group_B = [5,10,15,20,25]\n",
    "\n",
    "### Variance formula = sum(for i = 1 to n, (xi - mean) ** 2) / n - 1\n",
    "\n",
    "var_A = sum([(a - (float(sum(Group_A)) / len(Group_A))) ** 2 for a in Group_A]) / (len(Group_A) - 1)\n",
    "\n",
    "print(\"Variance for group A is =\", format(var_A,'.0f'))\n",
    "\n",
    "var_B = sum([(b - (float(sum(Group_B)) / len(Group_B))) ** 2 for b in Group_B]) / (len(Group_B) - 1)\n",
    "\n",
    "print(\"Variance for group B is =\", format(var_B,'.0f'))\n",
    "\n",
    "F_Test = var_A / var_B\n",
    "\n",
    "print(\"The F Test as calculated is =\", format(F_Test,'.0f'))"
   ]
  },
  {
   "cell_type": "code",
   "execution_count": null,
   "metadata": {
    "collapsed": true
   },
   "outputs": [],
   "source": []
  }
 ],
 "metadata": {
  "kernelspec": {
   "display_name": "Python 3",
   "language": "python",
   "name": "python3"
  },
  "language_info": {
   "codemirror_mode": {
    "name": "ipython",
    "version": 3
   },
   "file_extension": ".py",
   "mimetype": "text/x-python",
   "name": "python",
   "nbconvert_exporter": "python",
   "pygments_lexer": "ipython3",
   "version": "3.6.3"
  }
 },
 "nbformat": 4,
 "nbformat_minor": 2
}
